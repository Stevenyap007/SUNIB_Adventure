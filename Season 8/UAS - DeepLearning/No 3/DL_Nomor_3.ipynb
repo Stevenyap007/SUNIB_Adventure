{
  "nbformat": 4,
  "nbformat_minor": 0,
  "metadata": {
    "colab": {
      "provenance": []
    },
    "kernelspec": {
      "name": "python3",
      "display_name": "Python 3"
    },
    "language_info": {
      "name": "python"
    }
  },
  "cells": [
    {
      "cell_type": "markdown",
      "source": [
        "# Cosine Similarity"
      ],
      "metadata": {
        "id": "5j64vlGcbm3d"
      }
    },
    {
      "cell_type": "code",
      "source": [
        "import numpy as np\n",
        "\n",
        "word_vectors = {\n",
        "    'murah':       np.array([0.9, 0.3, 0.5]),\n",
        "    'murahan':     np.array([1.0, 0.2, 0.6]),\n",
        "    'berkualitas': np.array([0.7, 0.6, 0.9]),\n",
        "    'mahal':       np.array([1.2, 0.5, 0.8]),\n",
        "    'biasa':       np.array([0.6, 0.4, 0.5]),\n",
        "    'premium':     np.array([1.3, 0.6, 0.9])\n",
        "}\n",
        "\n",
        "def cosine_similarity(vec1, vec2):\n",
        "    dot_product = np.dot(vec1, vec2)\n",
        "    norm_vec1 = np.linalg.norm(vec1)\n",
        "    norm_vec2 = np.linalg.norm(vec2)\n",
        "    return dot_product / (norm_vec1 * norm_vec2)\n",
        "\n",
        "words = list(word_vectors.keys())\n",
        "n = len(words)\n",
        "\n",
        "print(f\"{'':12}\", end='')\n",
        "for w in words:\n",
        "    print(f\"{w:12}\", end='')\n",
        "print()\n",
        "\n",
        "for i in range(n):\n",
        "    print(f\"{words[i]:12}\", end='')\n",
        "    for j in range(n):\n",
        "        sim = cosine_similarity(word_vectors[words[i]], word_vectors[words[j]])\n",
        "        print(f\"{sim:.4f}      \", end='')\n",
        "    print()\n"
      ],
      "metadata": {
        "colab": {
          "base_uri": "https://localhost:8080/"
        },
        "id": "ZjTY2cZG1WUO",
        "outputId": "80f618f1-25d3-45d4-e3e7-afd1e76d90a9"
      },
      "execution_count": 2,
      "outputs": [
        {
          "output_type": "stream",
          "name": "stdout",
          "text": [
            "            murah       murahan     berkualitas mahal       biasa       premium     \n",
            "murah       1.0000      0.9930      0.9119      0.9958      0.9670      0.9925      \n",
            "murahan     0.9930      1.0000      0.8921      0.9855      0.9439      0.9795      \n",
            "berkualitas 0.9119      0.8921      1.0000      0.9458      0.9818      0.9546      \n",
            "mahal       0.9958      0.9855      0.9458      1.0000      0.9855      0.9994      \n",
            "biasa       0.9670      0.9439      0.9818      0.9855      1.0000      0.9906      \n",
            "premium     0.9925      0.9795      0.9546      0.9994      0.9906      1.0000      \n"
          ]
        }
      ]
    },
    {
      "cell_type": "markdown",
      "source": [
        "# Euclidean distance"
      ],
      "metadata": {
        "id": "ZfSBmIN8f0e0"
      }
    },
    {
      "cell_type": "code",
      "source": [
        "import numpy as np\n",
        "\n",
        "word_vectors = {\n",
        "    \"murah\":       np.array([0.9, 0.3, 0.5]),\n",
        "    \"murahan\":     np.array([1.0, 0.2, 0.6]),\n",
        "    \"berkualitas\": np.array([0.7, 0.6, 0.9]),\n",
        "    \"mahal\":       np.array([1.2, 0.5, 0.8]),\n",
        "    \"biasa\":       np.array([0.6, 0.4, 0.5]),\n",
        "    \"premium\":     np.array([1.3, 0.6, 0.9]),\n",
        "}\n",
        "\n",
        "words = list(word_vectors.keys())\n",
        "\n",
        "distances = {}\n",
        "\n",
        "for i, w1 in enumerate(words):\n",
        "    for j, w2 in enumerate(words):\n",
        "        if j >= i:\n",
        "            vec1 = word_vectors[w1]\n",
        "            vec2 = word_vectors[w2]\n",
        "            dist = np.linalg.norm(vec1 - vec2)\n",
        "            distances[(w1, w2)] = dist\n",
        "\n",
        "print(\"Euclidean Distance Matrix (upper triangle):\\n\")\n",
        "print(f\"{'':12}\", end='')\n",
        "for w in words:\n",
        "    print(f\"{w:12}\", end='')\n",
        "print()\n",
        "\n",
        "for i, w1 in enumerate(words):\n",
        "    print(f\"{w1:12}\", end='')\n",
        "    for j, w2 in enumerate(words):\n",
        "        if j < i:\n",
        "            print(f\"{'':12}\", end='')\n",
        "        else:\n",
        "            print(f\"{distances[(w1, w2)]:<12.3f}\", end='')\n",
        "    print()\n"
      ],
      "metadata": {
        "colab": {
          "base_uri": "https://localhost:8080/"
        },
        "id": "UyvUsJPb2XZN",
        "outputId": "c53c51bb-63de-416d-8a3f-68b3fb903cf6"
      },
      "execution_count": 4,
      "outputs": [
        {
          "output_type": "stream",
          "name": "stdout",
          "text": [
            "Euclidean Distance Matrix (upper triangle):\n",
            "\n",
            "            murah       murahan     berkualitas mahal       biasa       premium     \n",
            "murah       0.000       0.173       0.539       0.469       0.316       0.640       \n",
            "murahan                 0.000       0.583       0.412       0.458       0.583       \n",
            "berkualitas                         0.000       0.520       0.458       0.600       \n",
            "mahal                                           0.000       0.678       0.173       \n",
            "biasa                                                       0.000       0.831       \n",
            "premium                                                                 0.000       \n"
          ]
        }
      ]
    }
  ]
}